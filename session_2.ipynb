{
 "cells": [
  {
   "cell_type": "markdown",
   "id": "fdb2b9c3",
   "metadata": {},
   "source": [
    "# Session 2: Intrinsic Value - Foundation"
   ]
  },
  {
   "cell_type": "code",
   "execution_count": 1,
   "id": "a40870ae",
   "metadata": {},
   "outputs": [],
   "source": [
    "import pandas as pd\n",
    "import numpy as np\n",
    "import matplotlib.pyplot as plt"
   ]
  },
  {
   "cell_type": "markdown",
   "id": "23b821bf",
   "metadata": {},
   "source": [
    "## Discounted cash flow evaluation"
   ]
  },
  {
   "cell_type": "markdown",
   "id": "36a3eb35",
   "metadata": {},
   "source": [
    "The value of an asset is the **present** value of the expected **future** cash flows on that asset.\n",
    "\n",
    "Get the expected present value of the cash flows of the asset over time, where the expectancy is taken accross all different scenarios.\n",
    "Use a discount rate $r$ to account for the fact that this is a **present** valuation accounting for cash flows that one will receive in a **future**.\n",
    "\n",
    "\n",
    "$Value(Asset) = \\sum_{i}\\frac{\\mathbb{E}(CF_{i})}{(1+r)^{i}}$\n",
    "\n",
    "where $i$ is the $i$-th future period."
   ]
  },
  {
   "cell_type": "markdown",
   "id": "a2c22c31",
   "metadata": {},
   "source": [
    "### Code"
   ]
  },
  {
   "cell_type": "code",
   "execution_count": 30,
   "id": "3f7812b4",
   "metadata": {},
   "outputs": [],
   "source": [
    "data = pd.read_feather(\"data/trns_financials_against_sp500.feather\")"
   ]
  },
  {
   "cell_type": "markdown",
   "id": "7665c325",
   "metadata": {},
   "source": [
    "This is the main function to compute the `DCF` given a data set with `Ticker` and `period`s, a column representing the cash flow and a discount rate, `r`:"
   ]
  },
  {
   "cell_type": "code",
   "execution_count": 126,
   "id": "7babcd82",
   "metadata": {},
   "outputs": [],
   "source": [
    "def compute_dcf(data,cf_column,r = 0.1,freq = \"Q\"):\n",
    "    # ensure that we have the same number of periods for each ticker\n",
    "    assert(len(data.groupby([\"Ticker\",\"period\"]).size().reset_index().period.value_counts().value_counts())==1)\n",
    "    data = data.sort_values([\"Ticker\",\"period\"])\n",
    "    first_period = data[\"period\"].min()\n",
    "    # this supposes that the first_period is the 0 period\n",
    "    data[\"period_i\"] = data.groupby([\"Ticker\"]).cumcount() \n",
    "    if freq == \"Q\":\n",
    "        mult = 1/4\n",
    "    if freq == \"A\":\n",
    "        mult = 1\n",
    "    data[\"present_cf\"] = data[cf_column]/(1+r)**(data[\"period_i\"]*mult)\n",
    "    data.loc[pd.isna(data[\"present_cf\"]),\"present_cf\"] = np.inf\n",
    "    dcf = data.groupby([\"Ticker\"],dropna = False)[\"present_cf\"].sum().reset_index()\n",
    "    dcf.loc[dcf[\"present_cf\"]==np.inf,\"present_cf\"] = np.nan\n",
    "    dcf[\"period\"] = first_period\n",
    "    return dcf"
   ]
  },
  {
   "cell_type": "markdown",
   "id": "2ad113d8",
   "metadata": {},
   "source": [
    "As an example, let's use the column `Cash Flow From Operating Activities` as a proxy of the company cash flow. Let's use an annual 0.1 discount rate and let's compute the `DCF` of each company in the first period of 2010. Observe that if we do not have cash flow values for any of the periods we will have a `NaN` for the DCF of that company."
   ]
  },
  {
   "cell_type": "code",
   "execution_count": 138,
   "id": "dd5bbd44",
   "metadata": {},
   "outputs": [],
   "source": [
    "q_dcfs = compute_dcf(data[(data[\"freq\"]==\"Q\")&(data[\"period\"]>='2010')],cf_column = 'Cash Flow From Operating Activities',freq = \"Q\")\n",
    "a_dcfs = compute_dcf(data[(data[\"freq\"]==\"A\")&(data[\"period\"]>='2010')],cf_column = 'Cash Flow From Operating Activities',freq = \"A\")\n"
   ]
  },
  {
   "cell_type": "code",
   "execution_count": 139,
   "id": "be7fae30",
   "metadata": {},
   "outputs": [
    {
     "data": {
      "text/html": [
       "<div>\n",
       "<style scoped>\n",
       "    .dataframe tbody tr th:only-of-type {\n",
       "        vertical-align: middle;\n",
       "    }\n",
       "\n",
       "    .dataframe tbody tr th {\n",
       "        vertical-align: top;\n",
       "    }\n",
       "\n",
       "    .dataframe thead th {\n",
       "        text-align: right;\n",
       "    }\n",
       "</style>\n",
       "<table border=\"1\" class=\"dataframe\">\n",
       "  <thead>\n",
       "    <tr style=\"text-align: right;\">\n",
       "      <th></th>\n",
       "      <th>Ticker</th>\n",
       "      <th>present_cf</th>\n",
       "      <th>period</th>\n",
       "    </tr>\n",
       "  </thead>\n",
       "  <tbody>\n",
       "    <tr>\n",
       "      <th>0</th>\n",
       "      <td>A</td>\n",
       "      <td>6976.821148</td>\n",
       "      <td>2010_1</td>\n",
       "    </tr>\n",
       "    <tr>\n",
       "      <th>28</th>\n",
       "      <td>ABM</td>\n",
       "      <td>1229.786689</td>\n",
       "      <td>2010_1</td>\n",
       "    </tr>\n",
       "    <tr>\n",
       "      <th>64</th>\n",
       "      <td>ACN</td>\n",
       "      <td>33475.909716</td>\n",
       "      <td>2010_1</td>\n",
       "    </tr>\n",
       "    <tr>\n",
       "      <th>78</th>\n",
       "      <td>ADBE</td>\n",
       "      <td>14636.236818</td>\n",
       "      <td>2010_1</td>\n",
       "    </tr>\n",
       "    <tr>\n",
       "      <th>84</th>\n",
       "      <td>ADI</td>\n",
       "      <td>9115.680140</td>\n",
       "      <td>2010_1</td>\n",
       "    </tr>\n",
       "  </tbody>\n",
       "</table>\n",
       "</div>"
      ],
      "text/plain": [
       "   Ticker    present_cf  period\n",
       "0       A   6976.821148  2010_1\n",
       "28    ABM   1229.786689  2010_1\n",
       "64    ACN  33475.909716  2010_1\n",
       "78   ADBE  14636.236818  2010_1\n",
       "84    ADI   9115.680140  2010_1"
      ]
     },
     "execution_count": 139,
     "metadata": {},
     "output_type": "execute_result"
    }
   ],
   "source": [
    "q_dcfs[~pd.isna(q_dcfs[\"present_cf\"])].head()"
   ]
  },
  {
   "cell_type": "markdown",
   "id": "c8a3dfc0",
   "metadata": {},
   "source": [
    "Let's merge this with the market cap of the companies in the first period of 2010:"
   ]
  },
  {
   "cell_type": "code",
   "execution_count": 140,
   "id": "790b2e91",
   "metadata": {},
   "outputs": [],
   "source": [
    "q_dcfs_with_mc = pd.merge(q_dcfs,data[[\"Ticker\",\"period\",\"Market_cap\"]])\n",
    "q_dcfs_with_mc = q_dcfs_with_mc[(~pd.isna(q_dcfs_with_mc[\"present_cf\"]))&(~pd.isna(q_dcfs_with_mc[\"Market_cap\"]))]"
   ]
  },
  {
   "cell_type": "markdown",
   "id": "cd005cc7",
   "metadata": {},
   "source": [
    "This is the result, by just looking at some sample we can see that the two values are, at least, in the same order of magnitude:"
   ]
  },
  {
   "cell_type": "code",
   "execution_count": 141,
   "id": "3461b77d",
   "metadata": {},
   "outputs": [
    {
     "data": {
      "text/html": [
       "<div>\n",
       "<style scoped>\n",
       "    .dataframe tbody tr th:only-of-type {\n",
       "        vertical-align: middle;\n",
       "    }\n",
       "\n",
       "    .dataframe tbody tr th {\n",
       "        vertical-align: top;\n",
       "    }\n",
       "\n",
       "    .dataframe thead th {\n",
       "        text-align: right;\n",
       "    }\n",
       "</style>\n",
       "<table border=\"1\" class=\"dataframe\">\n",
       "  <thead>\n",
       "    <tr style=\"text-align: right;\">\n",
       "      <th></th>\n",
       "      <th>Ticker</th>\n",
       "      <th>present_cf</th>\n",
       "      <th>period</th>\n",
       "      <th>Market_cap</th>\n",
       "    </tr>\n",
       "  </thead>\n",
       "  <tbody>\n",
       "    <tr>\n",
       "      <th>0</th>\n",
       "      <td>A</td>\n",
       "      <td>6976.821148</td>\n",
       "      <td>2010_1</td>\n",
       "      <td>7196.788975</td>\n",
       "    </tr>\n",
       "    <tr>\n",
       "      <th>28</th>\n",
       "      <td>ABM</td>\n",
       "      <td>1229.786689</td>\n",
       "      <td>2010_1</td>\n",
       "      <td>1100.880600</td>\n",
       "    </tr>\n",
       "    <tr>\n",
       "      <th>64</th>\n",
       "      <td>ACN</td>\n",
       "      <td>33475.909716</td>\n",
       "      <td>2010_1</td>\n",
       "      <td>29729.116200</td>\n",
       "    </tr>\n",
       "    <tr>\n",
       "      <th>78</th>\n",
       "      <td>ADBE</td>\n",
       "      <td>14636.236818</td>\n",
       "      <td>2010_1</td>\n",
       "      <td>14077.807350</td>\n",
       "    </tr>\n",
       "    <tr>\n",
       "      <th>84</th>\n",
       "      <td>ADI</td>\n",
       "      <td>9115.680140</td>\n",
       "      <td>2010_1</td>\n",
       "      <td>8489.777800</td>\n",
       "    </tr>\n",
       "    <tr>\n",
       "      <th>...</th>\n",
       "      <td>...</td>\n",
       "      <td>...</td>\n",
       "      <td>...</td>\n",
       "      <td>...</td>\n",
       "    </tr>\n",
       "    <tr>\n",
       "      <th>5094</th>\n",
       "      <td>WGO</td>\n",
       "      <td>450.192041</td>\n",
       "      <td>2010_1</td>\n",
       "      <td>289.164540</td>\n",
       "    </tr>\n",
       "    <tr>\n",
       "      <th>5129</th>\n",
       "      <td>WMT</td>\n",
       "      <td>197782.609331</td>\n",
       "      <td>2010_1</td>\n",
       "      <td>186367.390000</td>\n",
       "    </tr>\n",
       "    <tr>\n",
       "      <th>5135</th>\n",
       "      <td>WOR</td>\n",
       "      <td>1487.110562</td>\n",
       "      <td>2010_1</td>\n",
       "      <td>1018.190500</td>\n",
       "    </tr>\n",
       "    <tr>\n",
       "      <th>5153</th>\n",
       "      <td>WSM</td>\n",
       "      <td>3776.859773</td>\n",
       "      <td>2010_1</td>\n",
       "      <td>2664.997860</td>\n",
       "    </tr>\n",
       "    <tr>\n",
       "      <th>5276</th>\n",
       "      <td>ZUMZ</td>\n",
       "      <td>510.074872</td>\n",
       "      <td>2010_1</td>\n",
       "      <td>485.442630</td>\n",
       "    </tr>\n",
       "  </tbody>\n",
       "</table>\n",
       "<p>167 rows × 4 columns</p>\n",
       "</div>"
      ],
      "text/plain": [
       "     Ticker     present_cf  period     Market_cap\n",
       "0         A    6976.821148  2010_1    7196.788975\n",
       "28      ABM    1229.786689  2010_1    1100.880600\n",
       "64      ACN   33475.909716  2010_1   29729.116200\n",
       "78     ADBE   14636.236818  2010_1   14077.807350\n",
       "84      ADI    9115.680140  2010_1    8489.777800\n",
       "...     ...            ...     ...            ...\n",
       "5094    WGO     450.192041  2010_1     289.164540\n",
       "5129    WMT  197782.609331  2010_1  186367.390000\n",
       "5135    WOR    1487.110562  2010_1    1018.190500\n",
       "5153    WSM    3776.859773  2010_1    2664.997860\n",
       "5276   ZUMZ     510.074872  2010_1     485.442630\n",
       "\n",
       "[167 rows x 4 columns]"
      ]
     },
     "execution_count": 141,
     "metadata": {},
     "output_type": "execute_result"
    }
   ],
   "source": [
    "q_dcfs_with_mc"
   ]
  },
  {
   "cell_type": "markdown",
   "id": "b5c22335",
   "metadata": {},
   "source": [
    "Not only that, the correlation between them is very high, so we can say that the CDF formula is very related to the real Market Cap of each company:"
   ]
  },
  {
   "cell_type": "code",
   "execution_count": 142,
   "id": "1ebd2f4c",
   "metadata": {},
   "outputs": [
    {
     "data": {
      "text/plain": [
       "array([[1.        , 0.89653465],\n",
       "       [0.89653465, 1.        ]])"
      ]
     },
     "execution_count": 142,
     "metadata": {},
     "output_type": "execute_result"
    }
   ],
   "source": [
    "np.corrcoef(q_dcfs_with_mc[\"present_cf\"],q_dcfs_with_mc[\"Market_cap\"])"
   ]
  },
  {
   "cell_type": "code",
   "execution_count": 143,
   "id": "8ea48939",
   "metadata": {},
   "outputs": [
    {
     "data": {
      "text/plain": [
       "<matplotlib.collections.PathCollection at 0x12cd69fa0>"
      ]
     },
     "execution_count": 143,
     "metadata": {},
     "output_type": "execute_result"
    },
    {
     "data": {
      "image/png": "[encoded data removed]",
      "text/plain": [
       "<Figure size 432x288 with 1 Axes>"
      ]
     },
     "metadata": {
      "needs_background": "light"
     },
     "output_type": "display_data"
    }
   ],
   "source": [
    "plt.scatter(q_dcfs_with_mc[\"present_cf\"],q_dcfs_with_mc[\"Market_cap\"])"
   ]
  },
  {
   "cell_type": "markdown",
   "id": "037444c2",
   "metadata": {},
   "source": [
    "## Certainly Equivalent discounted cash flow evaluation"
   ]
  },
  {
   "cell_type": "markdown",
   "id": "80d53039",
   "metadata": {},
   "source": [
    "An alternative formulation of the value of the asset is based on the *certainly equivalent cash flow*, which can be [defined](https://www.investopedia.com/terms/c/certaintyequivalent.asp) as the cash flow that one would accept now rather than accepting a higher, but uncertain, return in the future. Or, $CE(CF_{i}) = \\frac{\\mathbb{E}(CF_{i})}{(1+RP)}$, where $\\mathbb{E}(CF_{i})$ is the cash flow as defined before and $RP$ is the risk premium, i.e. the risk-adjusted rate of return minus the risk-free rate.\n",
    "\n",
    "The certainly equivalent discounted cash flow can be written as:\n",
    "\n",
    "$Value(Asset) = \\sum_{i}\\frac{CE(CF_{i})}{(1+r_{f})^{i}}$,\n",
    "\n",
    "where $r_f$ is the risk free rate, of the theoretical maximum return that one can obtain without any risk. \n",
    "The derivation to show that the two evaluation methods are equivalent can be found [here](http://www.normmiller.net/wp-content/uploads/2015/09/Appendix-10C.pdf) \n"
   ]
  },
  {
   "cell_type": "code",
   "execution_count": null,
   "id": "b1baa917",
   "metadata": {},
   "outputs": [],
   "source": []
  },
  {
   "cell_type": "code",
   "execution_count": 144,
   "id": "381958a4",
   "metadata": {},
   "outputs": [
    {
     "data": {
      "text/plain": [
       "['index',\n",
       " 'period',\n",
       " 'freq',\n",
       " 'Ticker',\n",
       " 'Asset Turnover',\n",
       " 'Basic EPS',\n",
       " 'Basic Shares Outstanding',\n",
       " 'Book Value Per Share',\n",
       " 'Cash Flow From Financial Activities',\n",
       " 'Cash Flow From Investing Activities',\n",
       " 'Cash Flow From Operating Activities',\n",
       " 'Cash On Hand',\n",
       " 'Change In Accounts Payable',\n",
       " 'Change In Accounts Receivable',\n",
       " 'Change In Assets/Liabilities',\n",
       " 'Change In Inventories',\n",
       " 'Common Stock Dividends Paid',\n",
       " 'Common Stock Net',\n",
       " 'Comprehensive Income',\n",
       " 'Cost Of Goods Sold',\n",
       " 'Current Ratio',\n",
       " 'Days Sales In Receivables',\n",
       " 'Debt Issuance/Retirement Net - Total',\n",
       " 'Debt/Equity Ratio',\n",
       " 'EBIT',\n",
       " 'EBIT Margin',\n",
       " 'EBITDA',\n",
       " 'EBITDA Margin',\n",
       " 'EPS - Earnings Per Share',\n",
       " 'Financial Activities - Other',\n",
       " 'Free Cash Flow Per Share',\n",
       " 'Goodwill And Intangible Assets',\n",
       " 'Gross Margin',\n",
       " 'Gross Profit',\n",
       " 'Income After Taxes',\n",
       " 'Income From Continuous Operations',\n",
       " 'Income From Discontinued Operations',\n",
       " 'Income Taxes',\n",
       " 'Inventory',\n",
       " 'Inventory Turnover Ratio',\n",
       " 'Investing Activities - Other',\n",
       " 'Long Term Debt',\n",
       " 'Long-Term Investments',\n",
       " 'Long-term Debt / Capital',\n",
       " 'Net Acquisitions/Divestitures',\n",
       " 'Net Cash Flow',\n",
       " 'Net Change In Intangible Assets',\n",
       " 'Net Change In Investments - Total',\n",
       " 'Net Change In Long-Term Investments',\n",
       " 'Net Change In Property, Plant, And Equipment',\n",
       " 'Net Change In Short-term Investments',\n",
       " 'Net Common Equity Issued/Repurchased',\n",
       " 'Net Current Debt',\n",
       " 'Net Income',\n",
       " 'Net Income/Loss',\n",
       " 'Net Long-Term Debt',\n",
       " 'Net Profit Margin',\n",
       " 'Net Total Equity Issued/Repurchased',\n",
       " 'Operating Cash Flow Per Share',\n",
       " 'Operating Expenses',\n",
       " 'Operating Income',\n",
       " 'Operating Margin',\n",
       " 'Other Current Assets',\n",
       " 'Other Income',\n",
       " 'Other Long-Term Assets',\n",
       " 'Other Non-Cash Items',\n",
       " 'Other Non-Current Liabilities',\n",
       " 'Other Operating Income Or Expenses',\n",
       " 'Other Share Holders Equity',\n",
       " 'Pre-Paid Expenses',\n",
       " 'Pre-Tax Income',\n",
       " 'Pre-Tax Profit Margin',\n",
       " 'Property, Plant, And Equipment',\n",
       " 'ROA - Return On Assets',\n",
       " 'ROE - Return On Equity',\n",
       " 'ROI - Return On Investment',\n",
       " 'Receivables',\n",
       " 'Receiveable Turnover',\n",
       " 'Research And Development Expenses',\n",
       " 'Retained Earnings (Accumulated Deficit)',\n",
       " 'Return On Tangible Equity',\n",
       " 'Revenue',\n",
       " 'SG&A Expenses',\n",
       " 'Share Holder Equity',\n",
       " 'Shares Outstanding',\n",
       " 'Stock-Based Compensation',\n",
       " 'Total Assets',\n",
       " 'Total Change In Assets/Liabilities',\n",
       " 'Total Common And Preferred Stock Dividends Paid',\n",
       " 'Total Current Assets',\n",
       " 'Total Current Liabilities',\n",
       " 'Total Depreciation And Amortization - Cash Flow',\n",
       " 'Total Liabilities',\n",
       " 'Total Liabilities And Share Holders Equity',\n",
       " 'Total Long Term Liabilities',\n",
       " 'Total Long-Term Assets',\n",
       " 'Total Non-Cash Items',\n",
       " 'Total Non-Operating Income/Expense',\n",
       " 'ISIN',\n",
       " 'zacks_x_sector_desc',\n",
       " 'zacks_x_ind_desc',\n",
       " 'execution_date',\n",
       " 'close_0',\n",
       " 'close_sp500_0',\n",
       " 'close_365',\n",
       " 'close_sp500_365',\n",
       " 'close_730',\n",
       " 'close_sp500_730',\n",
       " 'close_-120',\n",
       " 'close_sp500_-120',\n",
       " 'close_-365',\n",
       " 'close_sp500_-365',\n",
       " 'close_-730',\n",
       " 'close_sp500_-730',\n",
       " 'stock_change_365',\n",
       " 'dividend_cumsum_in_period_365',\n",
       " 'stock_change_div_365',\n",
       " 'sp500_change_365',\n",
       " 'stock_change_730',\n",
       " 'dividend_cumsum_in_period_730',\n",
       " 'stock_change_div_730',\n",
       " 'sp500_change_730',\n",
       " 'stock_change_-120',\n",
       " 'dividend_cumsum_in_period_-120',\n",
       " 'stock_change_div_-120',\n",
       " 'sp500_change_-120',\n",
       " 'stock_change_-365',\n",
       " 'dividend_cumsum_in_period_-365',\n",
       " 'stock_change_div_-365',\n",
       " 'sp500_change_-365',\n",
       " 'stock_change_-730',\n",
       " 'dividend_cumsum_in_period_-730',\n",
       " 'stock_change_div_-730',\n",
       " 'sp500_change_-730',\n",
       " 'improve_sp500',\n",
       " 'std_365',\n",
       " 'std_730',\n",
       " 'std_-120',\n",
       " 'std_-365',\n",
       " 'std_-730',\n",
       " 'sharpe_ratio_365',\n",
       " 'Filled Shares Outstanding',\n",
       " 'Market_cap',\n",
       " 'yey']"
      ]
     },
     "execution_count": 144,
     "metadata": {},
     "output_type": "execute_result"
    }
   ],
   "source": [
    "list(data.columns)"
   ]
  },
  {
   "cell_type": "code",
   "execution_count": 147,
   "id": "98935ef4",
   "metadata": {},
   "outputs": [
    {
     "data": {
      "text/plain": [
       "['index',\n",
       " 'period',\n",
       " 'freq',\n",
       " 'Ticker',\n",
       " 'Asset Turnover',\n",
       " 'Basic EPS',\n",
       " 'Basic Shares Outstanding',\n",
       " 'Book Value Per Share',\n",
       " 'Cash Flow From Financial Activities',\n",
       " 'Cash Flow From Investing Activities',\n",
       " 'Cash Flow From Operating Activities',\n",
       " 'Cash On Hand',\n",
       " 'Change In Accounts Payable',\n",
       " 'Change In Accounts Receivable',\n",
       " 'Change In Assets/Liabilities',\n",
       " 'Change In Inventories',\n",
       " 'Common Stock Dividends Paid',\n",
       " 'Common Stock Net',\n",
       " 'Comprehensive Income',\n",
       " 'Cost Of Goods Sold',\n",
       " 'Current Ratio',\n",
       " 'Days Sales In Receivables',\n",
       " 'Debt Issuance/Retirement Net - Total',\n",
       " 'Debt/Equity Ratio',\n",
       " 'EBIT',\n",
       " 'EBIT Margin',\n",
       " 'EBITDA',\n",
       " 'EBITDA Margin',\n",
       " 'EPS - Earnings Per Share',\n",
       " 'Financial Activities - Other',\n",
       " 'Free Cash Flow Per Share',\n",
       " 'Goodwill And Intangible Assets',\n",
       " 'Gross Margin',\n",
       " 'Gross Profit',\n",
       " 'Income After Taxes',\n",
       " 'Income From Continuous Operations',\n",
       " 'Income From Discontinued Operations',\n",
       " 'Income Taxes',\n",
       " 'Inventory',\n",
       " 'Inventory Turnover Ratio',\n",
       " 'Investing Activities - Other',\n",
       " 'Long Term Debt',\n",
       " 'Long-Term Investments',\n",
       " 'Long-term Debt / Capital',\n",
       " 'Net Acquisitions/Divestitures',\n",
       " 'Net Cash Flow',\n",
       " 'Net Change In Intangible Assets',\n",
       " 'Net Change In Investments - Total',\n",
       " 'Net Change In Long-Term Investments',\n",
       " 'Net Change In Property, Plant, And Equipment',\n",
       " 'Net Change In Short-term Investments',\n",
       " 'Net Common Equity Issued/Repurchased',\n",
       " 'Net Current Debt',\n",
       " 'Net Income',\n",
       " 'Net Income/Loss',\n",
       " 'Net Long-Term Debt',\n",
       " 'Net Profit Margin',\n",
       " 'Net Total Equity Issued/Repurchased',\n",
       " 'Operating Cash Flow Per Share',\n",
       " 'Operating Expenses',\n",
       " 'Operating Income',\n",
       " 'Operating Margin',\n",
       " 'Other Current Assets',\n",
       " 'Other Income',\n",
       " 'Other Long-Term Assets',\n",
       " 'Other Non-Cash Items',\n",
       " 'Other Non-Current Liabilities',\n",
       " 'Other Operating Income Or Expenses',\n",
       " 'Other Share Holders Equity',\n",
       " 'Pre-Paid Expenses',\n",
       " 'Pre-Tax Income',\n",
       " 'Pre-Tax Profit Margin',\n",
       " 'Property, Plant, And Equipment',\n",
       " 'ROA - Return On Assets',\n",
       " 'ROE - Return On Equity',\n",
       " 'ROI - Return On Investment',\n",
       " 'Receivables',\n",
       " 'Receiveable Turnover',\n",
       " 'Research And Development Expenses',\n",
       " 'Retained Earnings (Accumulated Deficit)',\n",
       " 'Return On Tangible Equity',\n",
       " 'Revenue',\n",
       " 'SG&A Expenses',\n",
       " 'Share Holder Equity',\n",
       " 'Shares Outstanding',\n",
       " 'Stock-Based Compensation',\n",
       " 'Total Assets',\n",
       " 'Total Change In Assets/Liabilities',\n",
       " 'Total Common And Preferred Stock Dividends Paid',\n",
       " 'Total Current Assets',\n",
       " 'Total Current Liabilities',\n",
       " 'Total Depreciation And Amortization - Cash Flow',\n",
       " 'Total Liabilities',\n",
       " 'Total Liabilities And Share Holders Equity',\n",
       " 'Total Long Term Liabilities',\n",
       " 'Total Long-Term Assets',\n",
       " 'Total Non-Cash Items',\n",
       " 'Total Non-Operating Income/Expense',\n",
       " 'ISIN',\n",
       " 'zacks_x_sector_desc',\n",
       " 'zacks_x_ind_desc',\n",
       " 'execution_date',\n",
       " 'close_0',\n",
       " 'close_sp500_0',\n",
       " 'close_365',\n",
       " 'close_sp500_365',\n",
       " 'close_730',\n",
       " 'close_sp500_730',\n",
       " 'close_-120',\n",
       " 'close_sp500_-120',\n",
       " 'close_-365',\n",
       " 'close_sp500_-365',\n",
       " 'close_-730',\n",
       " 'close_sp500_-730',\n",
       " 'stock_change_365',\n",
       " 'dividend_cumsum_in_period_365',\n",
       " 'stock_change_div_365',\n",
       " 'sp500_change_365',\n",
       " 'stock_change_730',\n",
       " 'dividend_cumsum_in_period_730',\n",
       " 'stock_change_div_730',\n",
       " 'sp500_change_730',\n",
       " 'stock_change_-120',\n",
       " 'dividend_cumsum_in_period_-120',\n",
       " 'stock_change_div_-120',\n",
       " 'sp500_change_-120',\n",
       " 'stock_change_-365',\n",
       " 'dividend_cumsum_in_period_-365',\n",
       " 'stock_change_div_-365',\n",
       " 'sp500_change_-365',\n",
       " 'stock_change_-730',\n",
       " 'dividend_cumsum_in_period_-730',\n",
       " 'stock_change_div_-730',\n",
       " 'sp500_change_-730',\n",
       " 'improve_sp500',\n",
       " 'std_365',\n",
       " 'std_730',\n",
       " 'std_-120',\n",
       " 'std_-365',\n",
       " 'std_-730',\n",
       " 'sharpe_ratio_365',\n",
       " 'Filled Shares Outstanding',\n",
       " 'Market_cap',\n",
       " 'yey']"
      ]
     },
     "execution_count": 147,
     "metadata": {},
     "output_type": "execute_result"
    }
   ],
   "source": [
    "list(data.columns)"
   ]
  },
  {
   "cell_type": "code",
   "execution_count": 148,
   "id": "63002ff7",
   "metadata": {},
   "outputs": [
    {
     "data": {
      "text/plain": [
       "0            NaN\n",
       "1         0.3052\n",
       "2         0.2972\n",
       "3         0.2913\n",
       "4            NaN\n",
       "           ...  \n",
       "449135       NaN\n",
       "449136    0.0089\n",
       "449137    0.0083\n",
       "449138    0.0073\n",
       "449139       NaN\n",
       "Name: Debt/Equity Ratio, Length: 449140, dtype: float64"
      ]
     },
     "execution_count": 148,
     "metadata": {},
     "output_type": "execute_result"
    }
   ],
   "source": [
    "data['Debt/Equity Ratio']"
   ]
  },
  {
   "cell_type": "code",
   "execution_count": null,
   "id": "f318e60c",
   "metadata": {},
   "outputs": [],
   "source": []
  }
 ],
 "metadata": {
  "kernelspec": {
   "display_name": "investing-with-data",
   "language": "python",
   "name": "investing-with-data"
  },
  "language_info": {
   "codemirror_mode": {
    "name": "ipython",
    "version": 3
   },
   "file_extension": ".py",
   "mimetype": "text/x-python",
   "name": "python",
   "nbconvert_exporter": "python",
   "pygments_lexer": "ipython3",
   "version": "3.8.3"
  }
 },
 "nbformat": 4,
 "nbformat_minor": 5
}

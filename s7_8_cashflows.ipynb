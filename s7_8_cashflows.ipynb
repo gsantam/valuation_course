{
 "cells": [
  {
   "cell_type": "markdown",
   "metadata": {},
   "source": [
    "# 1. Cash Flow Firm (FCFF)\n",
    "\n",
    "## 1.1 FCFF Intro\n",
    "- CF Equity: Earnings after interest expenses - i.e. net income\n",
    "        Consider CF of net debt issues (debt issued - debt repaid)\n",
    "- CF Firm: Operating earnings after taxes\n",
    "\n",
    "Conider company investments\n",
    "\n",
    "```\n",
    "Free Cash Flow to Firm (FCFF) = EBIT (1- tax rate) - Reinvestmens = \n",
    "                              = EBIT (1- tax rate) \n",
    "                                - ( Capital Expenditures - Depreciation) \n",
    "                                - Change in non-cash working capital\n",
    "```\n",
    "\n",
    "From Reported to Actual Earnings\n",
    "1. Normalise Earnings (Firmʼs history & Comparable Firms) \n",
    "    - are the recent earnings exceptional? (eg COVID, natural disaster,..)\n",
    "\n",
    "2. Annualise Earnings (most recent data): Trailing 12-month Revenue = Revenues (in last 10K) - Revenues 3 last quarters last year +                         Revenues from first 3 quarters of this year\n",
    "\n",
    "3. Cleanse from operating expenses / make sure they are not included: \n",
    "\n",
    "- Financial Expenses - Any commitment tax deductible that you have to meet no matter what your operating results \n",
    "    eg: Operating Leases (rents - machinery, office, factory,...)\n",
    " \n",
    "- Capital Expenses & Non-recurring expenses - Any expense that is expected to generate benefits over multiple periods \n",
    "    eg: R&D should be CapEx\n",
    " \n",
    " 4. Tax rate Use correct Tax Rate. \n",
    "    effective = real tax rate paid\n",
    "    marginal = last tier tax rate"
   ]
  },
  {
   "cell_type": "markdown",
   "metadata": {},
   "source": [
    "## 1.2 Annualise Earnings\n",
    "\n",
    "Straightforward. \n",
    "https://www.stern.nyu.edu/~adamodar/podcasts/Webcasts/Trailing12month.mp4\n",
    "https://www.youtube.com/watch?v=3xKK2Baiso0\n",
    "\n",
    "\n",
    "### 1.2.1 Real Time (Market Values)\n",
    "- Stock Prices (Market Values) - Yahoo finance?\n",
    "- Rf\n",
    "- Number of shares - Yahoo finance?\n",
    "\n",
    "\n",
    "### 1.2.2 Quarterly (Flow items)\n",
    "\n",
    "Trailing 12 months of:\n",
    "- Revenues (net sales)\n",
    "- Operating Income\n",
    "\n",
    "### 1.2.3 Annualy (stock items)\n",
    "In general __use the last available info (10Q)__\n",
    "Some items are not available in 10Q, and need to be pulled from 10K:\n",
    "- Op Leases\n",
    "- Book value debt\n",
    "\n",
    "options here:\n",
    "1. Keep last value from 10K\n",
    "2. Scale values proportionally to revenue growth (eg rev growth 10%, debt value +10%)"
   ]
  },
  {
   "cell_type": "code",
   "execution_count": null,
   "metadata": {},
   "outputs": [],
   "source": [
    "## TODO: Annualise data (easy instructions above)\n",
    "# - Revenues, Op Income: sum 4 previous quarters\n",
    "# - Others: fillna with values last quarter / last year\n"
   ]
  },
  {
   "cell_type": "code",
   "execution_count": null,
   "metadata": {},
   "outputs": [],
   "source": []
  },
  {
   "cell_type": "markdown",
   "metadata": {},
   "source": [
    "## 1.3 Normalise Abnormally Low Earnings\n",
    "\n",
    "### 1.3.1 Temporary Problems / Cyclicality\n",
    "\n",
    "- If firmʼs size has not changed significantly over time -- Average Earnings (Net Income if Equity and EBIT if Firm)\n",
    "- If firmʼs size has changed over time -- \n",
    "    Equity: Firmʼs average ROE on current BV of equity\n",
    "    Firm: average ROC on current BV of capital\n",
    "\n",
    "### 1.3.2 Life cycle reasons | Leverage problems | Long-term operating problems\n",
    "Eliminate the problems over time\n",
    "- If problem is structural: Target for operating margins of stable firms in the sector.\n",
    "- If problem is leverage: Target for a debt ratio that the firm will be comfortable by end of period (could be its\n",
    "own optimal or the industry average).\n",
    "- If problem is operating: Target for an industry-average operating margin.\n",
    "\n"
   ]
  },
  {
   "cell_type": "code",
   "execution_count": null,
   "metadata": {},
   "outputs": [],
   "source": [
    "## TODO: Automate this above?\n"
   ]
  },
  {
   "cell_type": "markdown",
   "metadata": {},
   "source": [
    "## 1.4 Cleanse from operating expenses\n",
    "\n",
    "### 1.4.1 Operating leases\n",
    "\n",
    "Debt Value of Operating Leases = PV(Operating Lease Commitments, pre-tax cost of debt, n_years)\n",
    "Adjusted Operating Earnings = Operating Earnings + Operating Lease Expenses - Depreciation on Leased Asset\n",
    "or Adjusted Operating Earnings = Operating Earnings + Pre-tax cost of Debt * PV of Operating Leases.\n",
    "\n",
    "### 1.4.2 Tax Rate\n",
    "\n",
    "__Start with tax_rate = effective__ (real) tax rate\n",
    "```\n",
    "Effective Tax Rate = Taxes / Income before taxes\n",
    "                   = Taxes paid / Taxable income\n",
    "```\n",
    "\n",
    "Adjust the tax rate towards the __marginal tax rate over time__\n",
    "\n",
    "EBIT < 0 -> no paid taxes, and dscount to following years\n",
    "\n",
    "### 1.4.3 Net CapEx\n",
    "\n",
    "Net capital expenditures = capital expenditures - depreciation.\n",
    "\n",
    "Net capital expenditures = f(growth or expected growth spead) \n",
    "    High growth firms will have much higher net capital expenditures than low growth firms.\n",
    "    Assumptions Net CapEx in same line to growth\n",
    "\n",
    "CapEx includes anything that creates growth:\n",
    "- R&D\n",
    "- Acquisitions (avg normalised over time) - cashflow statement under \"other investment activities\"\n",
    "- Marketing? Costumer Acquisitions?\n",
    "!! Sometimes acquisitions can be paid with stock. Convert them to cash flow.\n",
    "\n",
    "Adjusted Net Capital Expenditures = Net Capital Expenditures + Current year’s R&D/Acquisitions expenses - Amortization\n",
    "\n",
    "Capitalise R&D:\n",
    "1. Specify an amortizable life for R&D (2 - 10 years depending on industry). Software 2-3y. Business Software 5y \n",
    "2. Collect past R&D expenses for as long as the amortizable life\n",
    "3. Sum up the unamortized R&D over the period. (eg, if the amortizable life is 5 years, add 1/5th of R&D expense from five years ago, 2/5th\n",
    "of the R&D expense from four years ago...)\n",
    "4. \n",
    "\n",
    "\n",
    "### 1.4.4 Non-cash Working Capital Investments\n",
    "- Accounting working capital = current assets (inventory, cash and accounts receivable) - current liabilities (accounts payables,\n",
    "short term debt and debt due within the next year)\n",
    "__- Cash flow working capital = non-cash current assets (inventory and accounts receivable) - non-debt current liabilities (accounts payable)__ \n",
    "\n",
    "Watchouts: \n",
    "- Working Capital Volatility: Changes in non-cash working capital from year to year tend to be volatile. \n",
    "It is better to either __estimate the change based on working capital as a percent of sales, while keeping an eye on industry averages__.\n",
    "   Idea: Use last years WC as % of revenue average and evolution\n",
    "         Young companies: compute industry averages on similar tenure\n",
    "         Estimate 10-y value based on those \n",
    "\n",
    "\n",
    "- Negative Working Capital: Some firms have negative non-cash working capital. Assuming that this will continue into\n",
    "the future will generate positive cash flows for the firm and will get more positive as growth increases.\n"
   ]
  },
  {
   "cell_type": "code",
   "execution_count": null,
   "metadata": {},
   "outputs": [],
   "source": [
    "## TODO: Function to calculate Op leases\n",
    "\n",
    "## TODO: Function to capitalise R&D  \n",
    "\n",
    "## TODO: Calculate taxes based on expected incomes in future, and discount tax advantages from previous years' loses\n",
    "\n",
    "## TODO: Calculate non-cash working capital per period -> estimate in % of sales and using industry avgs "
   ]
  },
  {
   "cell_type": "code",
   "execution_count": null,
   "metadata": {},
   "outputs": [],
   "source": [
    "## TODO: Put all together: Calculate FCFF\n",
    "# Free Cash Flow to Firm (FCFF) = EBIT (1- tax rate) - ( Capital Expenditures - Depreciation) - Change in non-cash working capital\n"
   ]
  },
  {
   "cell_type": "markdown",
   "metadata": {},
   "source": [
    "# 2. Free Cash Flow Equity (FCFE)\n",
    "\n",
    "## 2.1 Dividend Discount Modeling (DDM)\n",
    "FCFE = Actual dividents\n",
    "\n",
    "## 2.2 Earnings on Potential Dividends\n",
    "\n",
    "Potential dividends of a firm = cash flows after the firm has made any “investments” to create future growth and net debt repayments (debt repayments - new debt issues)\n",
    "\n",
    "```\n",
    "Free Cash flow to Equity = Net Income\n",
    "                            - (Capital Expenditures - Depreciation)\n",
    "                            - Changes in non-cash Working Capital\n",
    "                            - (Principal Repayments - New Debt Issues)\n",
    "                            *\n",
    "```\n",
    "Shortcut (if leverage DR stable):\n",
    "\n",
    "```\n",
    "Free Cash flow to Equity = Net Income\n",
    "                            - (1- DR) (Capital Expenditures - Depreciation)\n",
    "                            - (1- DR) Working Capital Needs\n",
    "                            *\n",
    "\n",
    "where DR = Debt/Capital Ratio\n",
    "```\n",
    "Assumption: part of reinvestments coms from debt.\n",
    "\n",
    "* If preferred stock exists -> preferred dividends netted out \n",
    "\n",
    "non-cash Working Capital = WC - Cash + ST Debt (liabilities)"
   ]
  },
  {
   "cell_type": "code",
   "execution_count": null,
   "metadata": {},
   "outputs": [],
   "source": [
    "## FCFF should be easy to calculate. But do we need it?"
   ]
  },
  {
   "cell_type": "code",
   "execution_count": null,
   "metadata": {},
   "outputs": [],
   "source": []
  }
 ],
 "metadata": {
  "kernelspec": {
   "display_name": "Python 3.8.8 ('base')",
   "language": "python",
   "name": "python3"
  },
  "language_info": {
   "codemirror_mode": {
    "name": "ipython",
    "version": 3
   },
   "file_extension": ".py",
   "mimetype": "text/x-python",
   "name": "python",
   "nbconvert_exporter": "python",
   "pygments_lexer": "ipython3",
   "version": "3.8.8"
  },
  "orig_nbformat": 4,
  "vscode": {
   "interpreter": {
    "hash": "6bcd08b9d07a1bbf1ca3d2e85cf520478653b674492b433d59be3f14d722c959"
   }
  }
 },
 "nbformat": 4,
 "nbformat_minor": 2
}

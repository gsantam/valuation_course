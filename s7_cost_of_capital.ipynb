{
 "cells": [
  {
   "cell_type": "markdown",
   "metadata": {},
   "source": [
    "# 1. Cost of Debt\n",
    "The cost of debt is the rate at which you can borrow at currently\n",
    "It will reflect not only your default risk but also the level of interest rates in the market.\n",
    "\n",
    "Methods to calculate:\n",
    "\n",
    "- Looking up the yield to maturity on a straight bond outstanding from the firm. \n",
    "    X very few firms have long term straight bonds that are liquid and widely traded\n",
    "- Looking up the rating for the firm and estimating a default spread based upon the rating. \n",
    "    X Different bonds from the same firm can have different ratings. Use a median rating for the firm\n",
    "__- Estimate a synthetic rating for your firm and the cost of debt based upon that rating.__\n",
    "\n",
    "## 1.2 Pre-tax Cost of Debt:\n",
    "Process to calculate:\n",
    "\n",
    "1. Estimate interest coverage ratio\n",
    "Interest Coverage Ratio = EBIT / Interest Expenses\n",
    "\n",
    "Interest Expenses = \"Interest expense (gross) from most recent financial statement.\" + (CoD)*(Total Debt Value of leases)\n",
    "EBIT = EBIT reported + Operatng Expenses current year - Deprecn on Operating Leases assets\n",
    "\n",
    "If Lease commitments, this generates a circular reference. Need to iterating at calculating CoD\n",
    "\n",
    "- if Interest Expenses = 0: Interest Coverage Ratio = 1000000 \n",
    "- if EBIT < 0: Interest Coverage Ratio = -100000\n",
    "\n",
    "2. Estimate type of company: small (< $5B) or risky (volatile earnings), large (>= $5B), financial\n",
    "\n",
    "3. Lookup table for given company type and int cov ratio -> Company default spread\n",
    "    int cov ratio to Rating: Downloaded at \"data/Synthetic_Rating_Firm.csv\"\n",
    "        Can also be obtained from here (messy) http://pages.stern.nyu.edu/~adamodar/New_Home_Page/datafile/ratings.htm\n",
    "    ratings 2015-22: https://pages.stern.nyu.edu/~adamodar/pc/archives/bondspreads20.xlsx (Sheet1)\n",
    "\n",
    "   Lookup table for given country  -> Country default spread (country_default_spread)\n",
    "\n",
    "\n",
    "4. Compute Cost of debt\n",
    "Cost of debt = Riskfree rate + Company default spread  + p * (Country default spread) \n",
    "    (where p is the company's exposure to the country)\n",
    "\n",
    "!! This method works worst for smaller companies in markets with higher interest rates than the US. \n",
    "- One way to adjust for this difference is modify the interest coverage ratio table to reflect interest rate differences \n",
    "(For instances, if interest rates in an emerging market are twice as high as rates in the US, halve the interest coverage ratio).\n",
    "\n",
    "\n",
    "## 1.3. Cost of debt\n",
    "Cost of Debt = Pre-tax Cost of Debt * (1 - Marginal Tax Rate)\n"
   ]
  },
  {
   "cell_type": "code",
   "execution_count": 1,
   "metadata": {},
   "outputs": [],
   "source": [
    "import pandas as pd\n",
    "from utils import *"
   ]
  },
  {
   "cell_type": "code",
   "execution_count": 2,
   "metadata": {},
   "outputs": [],
   "source": [
    "def calculateInterestCoverageRatio(df):\n",
    "    \"\"\" Interest Coverage Ratio = EBIT / Interest Expenses \n",
    "    \n",
    "    TODO: 1. Find Interest Expenses column\n",
    "    2. Adjust both terms by Operaing Leases (doc above)\n",
    "    \"\"\"\n",
    "    df['Interest_Coverage_Ratio'] = df['EBIT'] / df['Interest_Expenses']    \n",
    "\n",
    "    df.loc[df.Interest_Expenses <= 0, 'Interest_Coverage_Ratio'] = 100  \n",
    "    df.loc[df.EBIT < 0, 'Interest_Coverage_Ratio'] = -100    \n",
    "    \n",
    "    df.loc[df.Interest_Coverage_Ratio > 100, 'Interest_Coverage_Ratio'] = 100  \n",
    "\n",
    "    ## If NA, we'lla ssume the company has the worst interest coverage ratio\n",
    "    df['Interest_Coverage_Ratio'] = df['Interest_Coverage_Ratio'].fillna(-100)   \n",
    "\n",
    "    return df['Interest_Coverage_Ratio']"
   ]
  },
  {
   "cell_type": "code",
   "execution_count": 3,
   "metadata": {},
   "outputs": [],
   "source": [
    "def calculateFirmType(df):\n",
    "    \"\"\" \n",
    "    Returns column with Firm_type = \n",
    "    - small (< $5B) or risky (volatile earnings)\n",
    "    - large (>= $5B)\n",
    "    ## TODO: When volatile MarketCap -> risky -> small (even when Large MarketCap)\n",
    "    \"\"\"\n",
    "    df['Firm_Type'] = 'Large'\n",
    "    df.loc[(df.Market_cap < 5e3) | (df.Market_cap.isna()), 'Firm_Type'] = 'Small' # or volatile earnings?\n",
    "\n",
    "    # df.loc[df.Industry = 'Financial??', 'Firm_type'] = 'Financial'\n",
    "\n",
    "    return df['Firm_Type']"
   ]
  },
  {
   "cell_type": "code",
   "execution_count": 4,
   "metadata": {},
   "outputs": [],
   "source": [
    "def getInterestCoverageRatingsTable():\n",
    "    \"\"\"\n",
    "    Returns a dataframe with the conversion from interest coverage ratings to company's rating.\n",
    "    \"\"\"\n",
    "    coverage_ratings = pd.read_csv(\"data/Synthetic_Rating_Firm.csv\")\n",
    "    coverage_ratings.drop(columns=[\"Spread\"], inplace=True)\n",
    "\n",
    "    coverage_ratings['int_cov_ratio_from'] = coverage_ratings['int_cov_ratio_from'].round(4)\n",
    "    coverage_ratings['int_cov_ratio_to'] = coverage_ratings['int_cov_ratio_to'].round(4)\n",
    "\n",
    "    return coverage_ratings\n",
    "\n",
    "def getSpreadRatingsYear():\n",
    "    \"\"\"\n",
    "    Returns a dataframe with the spread for each rating and each year.\n",
    "    \"\"\"\n",
    "    spread_ratings_years = pd.read_excel(\"https://pages.stern.nyu.edu/~adamodar/pc/archives/bondspreads20.xlsx\", sheet_name=\"Sheet1\")\n",
    "    spread_ratings_years.dropna(inplace = True)\n",
    "    spread_ratings_years.columns = [cl.replace(\":\", \"\").replace(\"Spread \", \"\") for cl in spread_ratings_years.columns]\n",
    "    spread_ratings_years.rename(columns={\"Rating is\": \"Rating\"}, inplace=True)\n",
    "\n",
    "    spread_ratings_years = spread_ratings_years.melt(id_vars = ['Rating'], var_name = 'Year', value_name = 'spread')\n",
    "\n",
    "    spread_ratings_years['Date'] = pd.to_datetime(spread_ratings_years['Year'] + \"-01-01\")\n",
    "    spread_ratings_years.drop(columns=['Year'], inplace=True)\n",
    "    spread_ratings_years\n",
    "\n",
    "    return spread_ratings_years\n",
    "\n",
    "def estimateCompanyDefaultSpread(df):\n",
    "    \"\"\"\n",
    "    Merge df and coverage_ratings by Firm_type and for the Rating of the int cov ratio.\n",
    "    TODO: Is there a better way to do this?\n",
    "    \"\"\"\n",
    "\n",
    "    ## Synthetic Rating\n",
    "    coverage_ratings = getInterestCoverageRatingsTable()\n",
    "    print(df.shape)\n",
    "    df = df.merge(coverage_ratings, on='Firm_Type', how='left')\n",
    "    print(df.shape)\n",
    "    df = df[(df.Interest_Coverage_Ratio >= df.int_cov_ratio_from) & (df.Interest_Coverage_Ratio < df.int_cov_ratio_to)]\n",
    "    print(df.shape)\n",
    "\n",
    "    df.drop(columns=['int_cov_ratio_from', 'int_cov_ratio_to'], inplace=True)\n",
    "    \n",
    "    ## Spread of Rating\n",
    "    spread_ratings_years = getSpreadRatingsYear()\n",
    "    spread_ratings_years.rename(columns={\"spread\": \"Company_DefaultSpread\"}, inplace=True)\n",
    "    df = mergeFuzzyDate(df, spread_ratings_years, date_main = 'date', date_aux = 'Date', join_by = ['Rating'])\n",
    "    \n",
    "    return df    \n",
    "\n",
    "# coverage_ratings = getInterestCoverageRatingsTable()\n",
    "# spread_ratings_years = getSpreadRatingsYear()"
   ]
  },
  {
   "cell_type": "code",
   "execution_count": 5,
   "metadata": {},
   "outputs": [],
   "source": [
    "def calculateCostOfDebt(df):\n",
    "     \"\"\"\n",
    "     Adds column with the cost of debt for each row.\n",
    "\n",
    "     TODO: Consider company's exposure in country in CoD calculation\n",
    "          Cost of debt = Riskfree rate + Company default spread  + p * (Country default spread) \n",
    "\n",
    "     \"\"\"\n",
    "     # coverage_ratings = getInterestCoverageRatingsTable()\n",
    "     # 1. Estimate interest coverage ratio\n",
    "     df['Interest_Coverage_Ratio'] = calculateInterestCoverageRatio(df)\n",
    "\n",
    "     # 2. Firm_type\n",
    "     df['Firm_Type'] = calculateFirmType(df)\n",
    "\n",
    "     # 3. Estimate Company default spread\n",
    "     df = estimateCompanyDefaultSpread(df)\n",
    "\n",
    "     # 4. Estimate cost of debt\n",
    "     df['Cost_of_Debt'] = df['Rf'] + df['Country_DefaultSpread'] + df['Company_DefaultSpread']\n",
    "\n",
    "     return df"
   ]
  },
  {
   "cell_type": "markdown",
   "metadata": {},
   "source": [
    "# 2. Cost of capital\n",
    "CoC = CoE * w + CoD * (1-w)\t\n",
    "\n",
    "where w = E/(E+D)\n",
    "\n",
    "## TODO: We don't have Preferred stocks\n",
    "\n",
    "Actually, with Preferred stocks, it would be:\n",
    "CoC = CoE * E/(E+D+PS) + CoD * D/(E+D+PS) + CoPS * PS/(E+D+PS)\n",
    "\n",
    "where PS = N Preferred shares * Current Market Price per Share PS\n",
    "And CoPS = Annual Dividend per Share PS / Current Market Price per Share PS\n"
   ]
  },
  {
   "cell_type": "code",
   "execution_count": 6,
   "metadata": {},
   "outputs": [],
   "source": [
    "def calculateMarketValueDebt(df):\n",
    "    \"\"\"\n",
    "    Market Value Debt = Est. Market Value of Straight Debt + Est. Market Value of Straight Debt in Convertible + Value of Debt in Operating Leases\n",
    "    \n",
    "    - Est. MV Straight Debt = Interest Expense * (1 - (1 + Pre-tax CoD) ** (-Avg Debt Maturity)) / Interest Expense + BV Straight Debt / (1 + Pre-Tax CoD) ** Average Debt Maturity\n",
    "    - Est. MV Straight Debt in Convertible = Interest Expense on Convertible * (1 - (1 + Pre-tax CoD) ** (- Maturity Convertible Bond)) / Pre-Tax CoD + BV Convertible Debt / (1 + Pre-Tax CoD) ** Maturity of Convertible Bond\n",
    "\n",
    "    - Value of Debt in Operating Leases = Sum of PV(Cash Flow)(expected lease commitments)\n",
    "\n",
    "    Average Debt Maturity -- found in the footnotes of financial statements.\n",
    "    Book Value of Straight Debt is also commonly known as \"Total Debt\" in the Balance Sheet (at least in Yahoo Finance). Short and long term.  (Do not include accounts payable, supplier credit or other non-interest bearing liabilities.)\n",
    "\n",
    "\n",
    "    TODO: Get Right fields for each of the above. Right now jut guesses.\n",
    "\n",
    "    \"\"\"\n",
    "    df['Avg_Debt_Maturity'] = 5 ## avg US maturity = 65 months. !!! TODO: Get from the footnotes of the financial statements.\n",
    "    df['BV_StraightDeb'] = df['Net Current Debt'].fillna(0).abs() + df['Net Long-Term Debt'].fillna(0).abs() ## No idea :S\n",
    "    df['MarketValue_StraightDeb'] = PVAnnuity(df['Interest_Expenses'], df['Cost_of_Debt'], df['Avg_Debt_Maturity']) + PVFutureValue(df['BV_StraightDeb'], df['Cost_of_Debt'], df['Avg_Debt_Maturity'])\n",
    "\n",
    "    # df['MarketValue_ConvertDeb'] = PVAnnuity(df['Interest_Expenses_Convertible'], df['Cost_of_Debt'], df['Maturity_Convertible_Bond']) + PVFutureValue(df['Debt_Convertible_Bond'], df['Cost_of_Debt'], df['Maturity_Convertible_Bond'])\n",
    "    df['MarketValue_Debt'] = df['MarketValue_StraightDeb'] # + df['MarketValue_ConvertDeb'] + df['Value_of_Debt_in_Operating_Leases']\n",
    "\n",
    "    return(df)"
   ]
  },
  {
   "cell_type": "code",
   "execution_count": null,
   "metadata": {},
   "outputs": [],
   "source": []
  },
  {
   "cell_type": "code",
   "execution_count": 7,
   "metadata": {},
   "outputs": [],
   "source": [
    "def calculateCostOfCapital(df):\n",
    "    \"\"\"\n",
    "    Adds column with the cost of capital for each row.\n",
    "    w_E = Market Value Equity (= Market Cap) / Market Value (Debt + Equity)\n",
    "\n",
    "    CoC = (1-w) * (1-t) * Cost of Debt + w_E * Cost of Equity\n",
    "\n",
    "    ## TODO:  + Weight of Preferred Stock in COC * Cost of Preferred Stock\n",
    "            CoC = CoE * E/(E+D+PS) + CoD * D/(E+D+PS) + CoPS * PS/(E+D+PS)\n",
    "\n",
    "            where PS = N Preferred shares * Current Market Price per Share PS\n",
    "            And CoPS = Annual Dividend per Share PS / Current Market Price per Share PS\n",
    "    \"\"\"\n",
    "    df['w_E'] = df['Market_cap'] / (df['Market_cap'] + df['MarketValue_Debt'])\n",
    "    df['Cost_of_Capital'] = (1 - df['w_E']) * (1 - df['Marginal_TaxRate']) * df['Cost_of_Debt'] + df['w_E'] * df['Cost_of_Equity']\n",
    "    return df\n"
   ]
  },
  {
   "cell_type": "markdown",
   "metadata": {},
   "source": [
    "# 3. Main"
   ]
  },
  {
   "cell_type": "code",
   "execution_count": 8,
   "metadata": {},
   "outputs": [
    {
     "name": "stdout",
     "output_type": "stream",
     "text": [
      "(411399, 162)\n",
      "(6170985, 165)\n",
      "(411399, 165)\n"
     ]
    }
   ],
   "source": [
    "## All together\n",
    "data = pd.read_feather(\"data/trns_financials_against_sp500_clean.feather\")\n",
    "\n",
    "data['Interest_Expenses'] = - data['Total Non-Operating Income/Expense'] # this is the most similar to the interest expense\n",
    "\n",
    "data = calculateCostOfDebt(data)\n",
    "\n",
    "data = calculateMarketValueDebt(data)\n",
    "\n",
    "data = calculateCostOfCapital(data)\n"
   ]
  },
  {
   "cell_type": "code",
   "execution_count": 12,
   "metadata": {},
   "outputs": [
    {
     "data": {
      "text/plain": [
       "0"
      ]
     },
     "execution_count": 12,
     "metadata": {},
     "output_type": "execute_result"
    }
   ],
   "source": []
  },
  {
   "cell_type": "markdown",
   "metadata": {},
   "source": [
    "# 4. Checks"
   ]
  },
  {
   "cell_type": "code",
   "execution_count": null,
   "metadata": {},
   "outputs": [],
   "source": [
    "## Checks\n",
    "print(data.Firm_Type.value_counts())\n",
    "print(data.Rating.value_counts())\n",
    "\n",
    "data.Interest_Coverage_Ratio.describe() ## Doesn't look good. Interest_Expenses might be wrong.\n",
    "data[[\"Company_DefaultSpread\", \"Interest_Expenses\",\t\"Interest_Coverage_Ratio\", \"Cost_of_Debt\", \"Avg_Debt_Maturity\", \\\n",
    "    \"BV_StraightDeb\", \"MarketValue_StraightDeb\", \"MarketValue_Debt\", \"w_E\", \"Cost_of_Capital\"]].describe()"
   ]
  },
  {
   "cell_type": "code",
   "execution_count": null,
   "metadata": {},
   "outputs": [],
   "source": [
    "print(data.Market_cap.isna().sum())\n",
    "print(data.MarketValue_Debt.isna().sum())\n",
    "data.Cost_of_Debt.hist(bins=100)\n",
    "data.Cost_of_Capital.hist(bins=100)"
   ]
  }
 ],
 "metadata": {
  "kernelspec": {
   "display_name": "Python 3.8.8 ('base')",
   "language": "python",
   "name": "python3"
  },
  "language_info": {
   "codemirror_mode": {
    "name": "ipython",
    "version": 3
   },
   "file_extension": ".py",
   "mimetype": "text/x-python",
   "name": "python",
   "nbconvert_exporter": "python",
   "pygments_lexer": "ipython3",
   "version": "3.8.8"
  },
  "orig_nbformat": 4,
  "vscode": {
   "interpreter": {
    "hash": "6bcd08b9d07a1bbf1ca3d2e85cf520478653b674492b433d59be3f14d722c959"
   }
  }
 },
 "nbformat": 4,
 "nbformat_minor": 2
}

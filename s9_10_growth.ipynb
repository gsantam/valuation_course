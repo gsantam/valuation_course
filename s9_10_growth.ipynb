{
 "cells": [
  {
   "cell_type": "markdown",
   "metadata": {},
   "source": [
    "# 1. Growth\n",
    "\n",
    "## 1.1 3 main ways to estimate growth\n",
    "1. Historical\n",
    "- Arithmetic Average or geometric average (GAGR)\n",
    "\n",
    "Issues: __When Earnings <0: Growth is not well defined.__\n",
    "    Eg from (5) to 5: (5- (-5)) /(-5) = -200%\n",
    "\n",
    "2. Analysts\n",
    "- Only slightly better than simple time series\n",
    "- All-America Analysts \n",
    "    - have leaks to be more accurate\n",
    "    - More impact on price moveents (especially Sell recommendations)\n",
    "- Some of them are biased (only see their 50 stores and they get in relashionships with management)\n",
    "\n",
    "3. Fundamentals\n",
    "Using estimates of the future, company fundamentals and competition metrics, estimate growth.\n",
    "\n",
    "## 1.2 Types of growth\n",
    "\n",
    "2 ways to grow:\n",
    "\n",
    "1. Adding new products\n",
    "\n",
    "Investmet in New projects         Change in Earnings\n",
    "------------------------------- = --------------------\n",
    "Investment in existing projects   Current Earnings\n",
    "\n",
    "2. Efficiency growth - increasing ROI of all projects\n",
    "\n",
    "Investmet in existing projects * (Change in ROI) + New projects (ROI)   Change in Earnings\n",
    "-------------------------------------------------------------------- = --------------------\n",
    "Investment in existing projects * (Current ROI)                          Current Earnings\n",
    "\n",
    "\n",
    "## 1.3 Estimating Growth when fundamentals constant\n",
    "\n",
    "Growth = Reinvestment Rate * Returns on Investment\n",
    "\n",
    "Depending on which model we are using, (dividents, FCFF, FCFE), we may night growth consistent to the strategy:\n",
    "\n",
    "###  Growths by model\n",
    "\n",
    "1. Earnings per share (EPS)\n",
    "- Retention Ratio = % of net income retained by the company = 1 – Payout ratio\n",
    "- Return on Equity = Net Income/ Book Value of Equity\n",
    "\n",
    "\n",
    "\n",
    "2. Net Income from non-cash assets\n",
    "- Equity reinvestment Rate = (Net Cap Ex + Change in non-cash WC – Change in Debt) / (Net Income non-cash assets)\n",
    "                           = (Net Cap Ex + Change in non-cash WC) * (1 - Debt Ratio) / (Net Income non-cash assets)\n",
    "- Non-cash ROE = Net Income from non-cash assets/ (Book value of equity – Cash)\n",
    "\n",
    "where \n",
    "Net Income from non-cash assets = Net income – Interest income from cash (1- t)\n",
    "\n",
    "3. Operating Income \n",
    "- Reinvestment Rate = (Net Cap Ex + Change in noncash WC)/  (After-tax Operating Income)\n",
    "- Return on Capital or ROIC = After-tax Operating Income/ (Book value of equity + Book value of debt – Cash)\n",
    "\n",
    "where After-tax Operating Income = EBIT * (1-t)\n",
    "\n",
    "------------------\n",
    "\n",
    "###  ROC to ROE\n",
    "Increase ROE with Debt\n",
    "ROE = ROC + D/E (ROC - i (1-t))\n",
    "\n",
    "where:\n",
    "ROC = EBITt (1 - tax rate) / Book value of Capitalt-1\n",
    "D/E = BV of Debt/ BV of Equity\n",
    "i = Cost of Debt: Interest Expense on Debt / BV of Debt\n",
    "t = Tax rate on ordinary income\n",
    "\n",
    "\n",
    "BV Capital = BV Debt + BV Equity - Cash\n",
    "\n",
    "## 1.4 Estimating Growth when fundamentals change over time\n",
    "\n",
    "Limits of RoE, RoC: Many. \n",
    "Average over time.\n",
    "\n",
    "If we expect ROC to increase/decrease over time and arrive to ROC_t+n:\n",
    "\n",
    "Expected Growth Rate = Growth New investments + Efficiency growth\n",
    "__Expected Growth Rate_t+1 = ROC_t+1 * Reinvestment rate + (ROC_t+1 – ROC_t) / ROC_t__\n",
    "Expected Growth Rate = ROC_t+n * Reinvestment rate + (ROC_t+n / ROC_t) ^ (1/n) - 1\n",
    "\n",
    "### Top down growth \n",
    "__Most generic approach: works for all companies__\n",
    "However, it requires more work.\n",
    "Normally used to estimate companies with __negative earnings.__\n",
    "\n",
    "3 steps:\n",
    "1. Estimate growth rates in revenues over time\n",
    "- Determine the __total market__ (given your business model) and estimate the market share that you think your company will earn.\n",
    "- Decrease the growth rate as the firm becomes larger\n",
    "- Keep track of absolute revenues to make sure that the growth is feasible\n",
    "2. Estimate expected __operating margins__ each year\n",
    "- Set a target margin that the firm will move towards\n",
    "- Adjust the current margin towards the target margin\n",
    "3. Estimate the capital that needs to be invested to generate revenue growth and expected margins\n",
    "- Estimate a __sales to capital ratio__ that you will use to generate __reinvestment__ needs each year."
   ]
  },
  {
   "cell_type": "code",
   "execution_count": null,
   "metadata": {},
   "outputs": [],
   "source": [
    "## Suggestion:\n",
    "# 1. Function to estimate growth when Earnings > 0\n",
    "def estimateGrowthOpIncome(df):\n",
    "    # - Reinvestment Rate = (Net Cap Ex + Change in noncash WC)/  (After-tax Operating Income)\n",
    "    # - Return on Capital or ROIC = After-tax Operating Income/ (Book value of equity + Book value of debt – Cash)\n",
    "    # - Growth = Reinvestment Rate * ROIC\n",
    "\n",
    "    ## Estimate Reinvestment rate moving forward: based on evolution, removing outliers, and comparing to industry avg\n",
    "\n",
    "    ## Estimate ROIC rate moving forward: based on evolution, removing outliers, and comparing to industry avg\n",
    "\n",
    "\n",
    "    pass \n",
    "\n",
    "# 2. Function to estimate growth when Earnings < 0\n",
    "def estimateGrowthTopDown(df):\n",
    "\n",
    "    ## 1. Estimate 3 values: \n",
    "    # - Growth rate (based on ), \n",
    "    # - Op Margins (based on ),\n",
    "    # - Sales to Capital ratio (reinvestment)\n",
    "    ## Growth Rate\n",
    "\n",
    "    pass"
   ]
  },
  {
   "cell_type": "markdown",
   "metadata": {},
   "source": [
    "# 2 Terminal Value\n",
    "- If assumption to grow in perpetuity, also need to take into account reinvestment in the op income\n",
    "\n",
    "## 2.1 Methods to calculate\n",
    "\n",
    "1. Liquidation Value\n",
    "- Sell all assets and get the liquidation of them\n",
    "- Useful for businesses that will end at some point (private businesses specially)\n",
    "\n",
    "__2. Stable growth model__\n",
    "The most common for stocks\n",
    "\n",
    "3. Multiple approach\n",
    "Shouldn't be used\n",
    "\n",
    "## 2.2 \n",
    "\n",
    "Value = Expected Cash Flow Next Period / (r - g)\n",
    "\n",
    "where,\n",
    "r = Discount rate (Cost of Equity or Cost of Capital)\n",
    "g = Expected growth rate\n",
    "\n",
    "Notes:\n",
    "- g < r\n",
    "- g can be negative (if assumption is company will gradually disappear). Some sectors more likely. Eg fosile energy \n",
    "- Normally g = Rf\n",
    "\n",
    "## 2.3 Considerations\n",
    "\n",
    "- For growth to be maintained, company should have sthg special. Competitive advantage\n",
    "\n",
    "### Growth in TV\n",
    "- Efficiency growth shouldn't be considered \n",
    "If assumption to grow in perpetuity, also need to take into account reinvestment in the op income\n",
    "\n",
    "```\n",
    "Terminal Value in year n = EBIT_(n+1) * (1-t)*(1- g/ROC) / (CoC - g)\n",
    "```\n",
    "\n",
    "### Internal consistency\n",
    "1. Use CoC of mature companies for TV: beta = 1, Debt ratio = mature company industry avg, CRP imnprove\n",
    "2. ROC = CoC, ROE = CoE\n",
    "3. Stable period reinvestment rate = g/ ROC\n"
   ]
  },
  {
   "cell_type": "code",
   "execution_count": 2,
   "metadata": {},
   "outputs": [],
   "source": [
    "def calculateTerminalValue(ebit, t, g, roc, coc):\n",
    "    # - Terminal Value = EBIT_(n+1) * (1-t)*(1- g/ROC) / (CoC - g)\n",
    "    return ebit * (1-t) * (1- g/roc) / (coc - g)\n"
   ]
  },
  {
   "cell_type": "code",
   "execution_count": 4,
   "metadata": {},
   "outputs": [
    {
     "data": {
      "text/plain": [
       "642.8571428571429"
      ]
     },
     "execution_count": 4,
     "metadata": {},
     "output_type": "execute_result"
    }
   ],
   "source": [
    "calculateTerminalValue(60/0.9, 0.1, 0.03, 0.12, 0.1)"
   ]
  },
  {
   "cell_type": "code",
   "execution_count": 8,
   "metadata": {},
   "outputs": [
    {
     "data": {
      "text/plain": [
       "257.5785892725567"
      ]
     },
     "execution_count": 8,
     "metadata": {},
     "output_type": "execute_result"
    }
   ],
   "source": [
    "from utils import *\n",
    "future_value = calculateTerminalValue(80/0.9, 0.1, 0.03, 0.1, 0.1)\n",
    "PVFutureValue(future_value, 0.12, 10) "
   ]
  }
 ],
 "metadata": {
  "kernelspec": {
   "display_name": "Python 3.8.8 ('base')",
   "language": "python",
   "name": "python3"
  },
  "language_info": {
   "codemirror_mode": {
    "name": "ipython",
    "version": 3
   },
   "file_extension": ".py",
   "mimetype": "text/x-python",
   "name": "python",
   "nbconvert_exporter": "python",
   "pygments_lexer": "ipython3",
   "version": "3.8.8"
  },
  "orig_nbformat": 4,
  "vscode": {
   "interpreter": {
    "hash": "6bcd08b9d07a1bbf1ca3d2e85cf520478653b674492b433d59be3f14d722c959"
   }
  }
 },
 "nbformat": 4,
 "nbformat_minor": 2
}

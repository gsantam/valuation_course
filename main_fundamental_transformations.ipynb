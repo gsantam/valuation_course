{
 "cells": [
  {
   "cell_type": "code",
   "execution_count": 1,
   "id": "d150bffb",
   "metadata": {},
   "outputs": [],
   "source": [
    "import pandas as pd\n",
    "import numpy as np\n",
    "import matplotlib.pyplot as plt"
   ]
  },
  {
   "cell_type": "markdown",
   "id": "bc644433",
   "metadata": {},
   "source": [
    "This dataset contains the fundamentals of a series of Tickets over 16 years. Each row is one `Ticker` and the `date` of the fundamental. The column `freq` is `Q` or `A` depending if that fundamental is for a quarter or for a year, respectively."
   ]
  },
  {
   "cell_type": "code",
   "execution_count": 2,
   "id": "0ba7108a",
   "metadata": {},
   "outputs": [
    {
     "data": {
      "text/html": [
       "<div>\n",
       "<style scoped>\n",
       "    .dataframe tbody tr th:only-of-type {\n",
       "        vertical-align: middle;\n",
       "    }\n",
       "\n",
       "    .dataframe tbody tr th {\n",
       "        vertical-align: top;\n",
       "    }\n",
       "\n",
       "    .dataframe thead th {\n",
       "        text-align: right;\n",
       "    }\n",
       "</style>\n",
       "<table border=\"1\" class=\"dataframe\">\n",
       "  <thead>\n",
       "    <tr style=\"text-align: right;\">\n",
       "      <th></th>\n",
       "      <th>Ticker</th>\n",
       "      <th>date</th>\n",
       "      <th>freq</th>\n",
       "      <th>Asset Turnover</th>\n",
       "      <th>Basic EPS</th>\n",
       "      <th>Basic Shares Outstanding</th>\n",
       "      <th>Book Value Per Share</th>\n",
       "      <th>Cash Flow From Financial Activities</th>\n",
       "      <th>Cash Flow From Investing Activities</th>\n",
       "      <th>Cash Flow From Operating Activities</th>\n",
       "      <th>...</th>\n",
       "      <th>dividend_cumsum_in_period_-730</th>\n",
       "      <th>stock_change_div_-730</th>\n",
       "      <th>sp500_change_-730</th>\n",
       "      <th>improve_sp500</th>\n",
       "      <th>std_365</th>\n",
       "      <th>std_730</th>\n",
       "      <th>std_-120</th>\n",
       "      <th>std_-365</th>\n",
       "      <th>std_-730</th>\n",
       "      <th>sharpe_ratio_365</th>\n",
       "    </tr>\n",
       "  </thead>\n",
       "  <tbody>\n",
       "    <tr>\n",
       "      <th>0</th>\n",
       "      <td>A</td>\n",
       "      <td>2005-01-31</td>\n",
       "      <td>Q</td>\n",
       "      <td>0.1695</td>\n",
       "      <td>0.2100</td>\n",
       "      <td>491.0000</td>\n",
       "      <td>7.6741</td>\n",
       "      <td>81.0000</td>\n",
       "      <td>-57.0000</td>\n",
       "      <td>137.0000</td>\n",
       "      <td>...</td>\n",
       "      <td>0.0</td>\n",
       "      <td>-0.135100</td>\n",
       "      <td>-0.175443</td>\n",
       "      <td>1.0</td>\n",
       "      <td>0.017758</td>\n",
       "      <td>0.017009</td>\n",
       "      <td>0.014371</td>\n",
       "      <td>0.020641</td>\n",
       "      <td>0.021253</td>\n",
       "      <td>20.890487</td>\n",
       "    </tr>\n",
       "    <tr>\n",
       "      <th>1</th>\n",
       "      <td>CNR</td>\n",
       "      <td>2005-01-31</td>\n",
       "      <td>Q</td>\n",
       "      <td>0.2614</td>\n",
       "      <td>2.6500</td>\n",
       "      <td>4.0672</td>\n",
       "      <td>101.9772</td>\n",
       "      <td>155.4010</td>\n",
       "      <td>-26.1650</td>\n",
       "      <td>14.3760</td>\n",
       "      <td>...</td>\n",
       "      <td>0.0</td>\n",
       "      <td>-0.479573</td>\n",
       "      <td>-0.175443</td>\n",
       "      <td>1.0</td>\n",
       "      <td>0.018951</td>\n",
       "      <td>0.018238</td>\n",
       "      <td>0.016412</td>\n",
       "      <td>0.022401</td>\n",
       "      <td>0.021240</td>\n",
       "      <td>32.770451</td>\n",
       "    </tr>\n",
       "    <tr>\n",
       "      <th>2</th>\n",
       "      <td>DY</td>\n",
       "      <td>2005-01-31</td>\n",
       "      <td>Q</td>\n",
       "      <td>0.3360</td>\n",
       "      <td>0.1500</td>\n",
       "      <td>48.6890</td>\n",
       "      <td>11.1993</td>\n",
       "      <td>0.9820</td>\n",
       "      <td>-39.0760</td>\n",
       "      <td>58.5450</td>\n",
       "      <td>...</td>\n",
       "      <td>0.0</td>\n",
       "      <td>-0.141848</td>\n",
       "      <td>-0.175443</td>\n",
       "      <td>1.0</td>\n",
       "      <td>0.024645</td>\n",
       "      <td>0.022685</td>\n",
       "      <td>0.030047</td>\n",
       "      <td>0.026593</td>\n",
       "      <td>0.026688</td>\n",
       "      <td>3.031387</td>\n",
       "    </tr>\n",
       "    <tr>\n",
       "      <th>3</th>\n",
       "      <td>GYRO</td>\n",
       "      <td>2005-01-31</td>\n",
       "      <td>Q</td>\n",
       "      <td>0.0482</td>\n",
       "      <td>-0.7743</td>\n",
       "      <td>0.1072</td>\n",
       "      <td>57.1457</td>\n",
       "      <td>0.6171</td>\n",
       "      <td>0.0986</td>\n",
       "      <td>-1.0356</td>\n",
       "      <td>...</td>\n",
       "      <td>0.0</td>\n",
       "      <td>-0.531536</td>\n",
       "      <td>-0.175443</td>\n",
       "      <td>1.0</td>\n",
       "      <td>0.020841</td>\n",
       "      <td>0.020143</td>\n",
       "      <td>0.026398</td>\n",
       "      <td>0.021356</td>\n",
       "      <td>0.020044</td>\n",
       "      <td>10.953862</td>\n",
       "    </tr>\n",
       "    <tr>\n",
       "      <th>4</th>\n",
       "      <td>CULP</td>\n",
       "      <td>2005-01-31</td>\n",
       "      <td>Q</td>\n",
       "      <td>0.3925</td>\n",
       "      <td>-0.4200</td>\n",
       "      <td>11.5500</td>\n",
       "      <td>8.0901</td>\n",
       "      <td>-1.8860</td>\n",
       "      <td>-8.2160</td>\n",
       "      <td>8.5540</td>\n",
       "      <td>...</td>\n",
       "      <td>0.0</td>\n",
       "      <td>0.554545</td>\n",
       "      <td>-0.175443</td>\n",
       "      <td>1.0</td>\n",
       "      <td>0.021073</td>\n",
       "      <td>0.025946</td>\n",
       "      <td>0.021159</td>\n",
       "      <td>0.021098</td>\n",
       "      <td>0.028727</td>\n",
       "      <td>5.284556</td>\n",
       "    </tr>\n",
       "  </tbody>\n",
       "</table>\n",
       "<p>5 rows × 140 columns</p>\n",
       "</div>"
      ],
      "text/plain": [
       "  Ticker       date freq  Asset Turnover  Basic EPS  Basic Shares Outstanding  \\\n",
       "0      A 2005-01-31    Q          0.1695     0.2100                  491.0000   \n",
       "1    CNR 2005-01-31    Q          0.2614     2.6500                    4.0672   \n",
       "2     DY 2005-01-31    Q          0.3360     0.1500                   48.6890   \n",
       "3   GYRO 2005-01-31    Q          0.0482    -0.7743                    0.1072   \n",
       "4   CULP 2005-01-31    Q          0.3925    -0.4200                   11.5500   \n",
       "\n",
       "   Book Value Per Share  Cash Flow From Financial Activities  \\\n",
       "0                7.6741                              81.0000   \n",
       "1              101.9772                             155.4010   \n",
       "2               11.1993                               0.9820   \n",
       "3               57.1457                               0.6171   \n",
       "4                8.0901                              -1.8860   \n",
       "\n",
       "   Cash Flow From Investing Activities  Cash Flow From Operating Activities  \\\n",
       "0                             -57.0000                             137.0000   \n",
       "1                             -26.1650                              14.3760   \n",
       "2                             -39.0760                              58.5450   \n",
       "3                               0.0986                              -1.0356   \n",
       "4                              -8.2160                               8.5540   \n",
       "\n",
       "   ...  dividend_cumsum_in_period_-730  stock_change_div_-730  \\\n",
       "0  ...                             0.0              -0.135100   \n",
       "1  ...                             0.0              -0.479573   \n",
       "2  ...                             0.0              -0.141848   \n",
       "3  ...                             0.0              -0.531536   \n",
       "4  ...                             0.0               0.554545   \n",
       "\n",
       "   sp500_change_-730  improve_sp500   std_365   std_730  std_-120  std_-365  \\\n",
       "0          -0.175443            1.0  0.017758  0.017009  0.014371  0.020641   \n",
       "1          -0.175443            1.0  0.018951  0.018238  0.016412  0.022401   \n",
       "2          -0.175443            1.0  0.024645  0.022685  0.030047  0.026593   \n",
       "3          -0.175443            1.0  0.020841  0.020143  0.026398  0.021356   \n",
       "4          -0.175443            1.0  0.021073  0.025946  0.021159  0.021098   \n",
       "\n",
       "   std_-730  sharpe_ratio_365  \n",
       "0  0.021253         20.890487  \n",
       "1  0.021240         32.770451  \n",
       "2  0.026688          3.031387  \n",
       "3  0.020044         10.953862  \n",
       "4  0.028727          5.284556  \n",
       "\n",
       "[5 rows x 140 columns]"
      ]
     },
     "execution_count": 2,
     "metadata": {},
     "output_type": "execute_result"
    }
   ],
   "source": [
    "data = pd.read_feather(\"data/financials_against_sp500.feather\")\n",
    "data.head()"
   ]
  },
  {
   "cell_type": "markdown",
   "id": "a34a6060",
   "metadata": {},
   "source": [
    "Create a column called `period` with the quarter or the year, depending of `freq`:"
   ]
  },
  {
   "cell_type": "code",
   "execution_count": 3,
   "id": "1bda25ee",
   "metadata": {},
   "outputs": [
    {
     "name": "stdout",
     "output_type": "stream",
     "text": [
      "1    275593\n",
      "2       731\n",
      "3         1\n",
      "dtype: int64\n"
     ]
    }
   ],
   "source": [
    "data.loc[data[\"freq\"]==\"Q\",\"period\"] = data[\"date\"].dt.year.astype(str) + \"_\" + data[\"date\"].dt.quarter.astype(str)\n",
    "data.loc[data[\"freq\"]==\"A\",\"period\"] = data[\"date\"].dt.year.astype(str)\n",
    "data = data.drop(columns = [\"date\"])\n",
    "# ensure there is only one row per Ticker and period\n",
    "print(data.groupby([\"Ticker\",\"freq\",\"period\"]).size().value_counts())"
   ]
  },
  {
   "cell_type": "code",
   "execution_count": 4,
   "id": "40ad2ccd",
   "metadata": {},
   "outputs": [
    {
     "name": "stdout",
     "output_type": "stream",
     "text": [
      "(277058, 140)\n",
      "(276325, 140)\n"
     ]
    }
   ],
   "source": [
    "print(data.shape)\n",
    "data = data.sort_values([\"Ticker\",\"freq\",\"period\"]).drop_duplicates([\"Ticker\",\"freq\",\"period\"])\n",
    "print(data.shape)"
   ]
  },
  {
   "cell_type": "markdown",
   "id": "1ec16777",
   "metadata": {},
   "source": [
    "Ensure that we have 1 and only 1 row for each combination of `period`, `freq` and `Ticker`:"
   ]
  },
  {
   "cell_type": "code",
   "execution_count": 5,
   "id": "0543b04d",
   "metadata": {},
   "outputs": [],
   "source": [
    "all_period_quarter = data[data[\"freq\"]==\"Q\"].sort_values(\"period\")[\"period\"].unique()\n",
    "all_period_anual = data[data[\"freq\"]==\"A\"].sort_values(\"period\")[\"period\"].unique()\n",
    "all_periods = pd.concat([pd.DataFrame({\"period\":all_period_quarter,\"freq\":\"Q\"}),pd.DataFrame({\"period\":all_period_anual,\"freq\":\"A\"})])\n",
    "all_periods = all_periods.merge(data.drop_duplicates(\"Ticker\")[\"Ticker\"], how='cross')\n",
    "data = pd.merge(all_periods,data,on = [\"freq\",\"period\",\"Ticker\"],how = \"left\")\n",
    "# ensure that for each ticker and frequency we have the same number of rows\n",
    "assert len(data[data[\"freq\"]==\"Q\"].groupby([\"Ticker\",\"freq\"]).size().reset_index()[0].value_counts()) ==1\n",
    "assert len(data[data[\"freq\"]==\"A\"].groupby([\"Ticker\",\"freq\"]).size().reset_index()[0].value_counts()) ==1\n"
   ]
  },
  {
   "cell_type": "markdown",
   "id": "26d6e128",
   "metadata": {},
   "source": [
    "Compute the Market Cap:"
   ]
  },
  {
   "cell_type": "markdown",
   "id": "63ec9624",
   "metadata": {},
   "source": [
    "Put NaN on negative values of `Shares Outstanding`:"
   ]
  },
  {
   "cell_type": "code",
   "execution_count": 6,
   "id": "d0af25c8",
   "metadata": {},
   "outputs": [],
   "source": [
    "data.loc[data['Shares Outstanding'] <= 0, 'Shares Outstanding'] = np.nan"
   ]
  },
  {
   "cell_type": "code",
   "execution_count": 7,
   "id": "0577fcd8",
   "metadata": {},
   "outputs": [],
   "source": [
    "data = data.sort_values([\"Ticker\",\"period\"],ascending = True)\n",
    "data['Filled Shares Outstanding'] = data.groupby('Ticker')['Shares Outstanding'].fillna(method = 'ffill')\n",
    "data['Market_cap'] = data['close_0'] * data['Filled Shares Outstanding']"
   ]
  },
  {
   "cell_type": "code",
   "execution_count": 17,
   "id": "f815d889",
   "metadata": {},
   "outputs": [],
   "source": [
    "data.reset_index().to_feather(\"data/trns_financials_against_sp500.feather\")"
   ]
  },
  {
   "cell_type": "code",
   "execution_count": null,
   "id": "f694ff94",
   "metadata": {},
   "outputs": [],
   "source": []
  }
 ],
 "metadata": {
  "kernelspec": {
   "display_name": "investing-with-data",
   "language": "python",
   "name": "investing-with-data"
  },
  "language_info": {
   "codemirror_mode": {
    "name": "ipython",
    "version": 3
   },
   "file_extension": ".py",
   "mimetype": "text/x-python",
   "name": "python",
   "nbconvert_exporter": "python",
   "pygments_lexer": "ipython3",
   "version": "3.8.3"
  }
 },
 "nbformat": 4,
 "nbformat_minor": 5
}
